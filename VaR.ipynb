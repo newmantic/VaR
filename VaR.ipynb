{
  "nbformat": 4,
  "nbformat_minor": 0,
  "metadata": {
    "colab": {
      "provenance": [],
      "authorship_tag": "ABX9TyP/F1SfUjB7Jt5Yi+U4eiAF",
      "include_colab_link": true
    },
    "kernelspec": {
      "name": "python3",
      "display_name": "Python 3"
    },
    "language_info": {
      "name": "python"
    }
  },
  "cells": [
    {
      "cell_type": "markdown",
      "metadata": {
        "id": "view-in-github",
        "colab_type": "text"
      },
      "source": [
        "<a href=\"https://colab.research.google.com/github/newmantic/VaR/blob/main/VaR.ipynb\" target=\"_parent\"><img src=\"https://colab.research.google.com/assets/colab-badge.svg\" alt=\"Open In Colab\"/></a>"
      ]
    },
    {
      "cell_type": "code",
      "execution_count": 1,
      "metadata": {
        "colab": {
          "base_uri": "https://localhost:8080/"
        },
        "id": "uIoToOAkn7Qn",
        "outputId": "3128ec48-554c-41f8-8fc5-7cf98ab9c66f"
      },
      "outputs": [
        {
          "output_type": "stream",
          "name": "stdout",
          "text": [
            "Historical VaR (95% confidence level): 0.0295\n"
          ]
        }
      ],
      "source": [
        "import numpy as np\n",
        "\n",
        "def historical_var(returns, confidence_level=0.95):\n",
        "    \"\"\"\n",
        "    Calculate Value-at-Risk (VaR) using Historical Simulation method.\n",
        "\n",
        "    Parameters:\n",
        "    - returns: A numpy array or list of asset/portfolio returns.\n",
        "    - confidence_level: The confidence level for VaR (default is 0.95).\n",
        "\n",
        "    Returns:\n",
        "    - var: The calculated VaR at the specified confidence level.\n",
        "    \"\"\"\n",
        "    sorted_returns = np.sort(returns)\n",
        "    index = int((1 - confidence_level) * len(sorted_returns))\n",
        "    var = -sorted_returns[index]\n",
        "    return var\n",
        "\n",
        "# Test Example\n",
        "np.random.seed(42)  # for reproducibility\n",
        "returns = np.random.normal(0.001, 0.02, 1000)  # 1000 daily returns with mean 0.1% and std dev 2%\n",
        "var_95 = historical_var(returns, 0.95)\n",
        "print(f\"Historical VaR (95% confidence level): {var_95:.4f}\")"
      ]
    },
    {
      "cell_type": "code",
      "source": [
        "import numpy as np\n",
        "\n",
        "def monte_carlo_var(initial_value, mu, sigma, time_horizon, n_simulations, confidence_level=0.95):\n",
        "    \"\"\"\n",
        "    Calculate Value-at-Risk (VaR) using Monte Carlo Simulation method.\n",
        "\n",
        "    Parameters:\n",
        "    - initial_value: The initial value of the asset/portfolio.\n",
        "    - mu: The expected return (mean) of the asset/portfolio.\n",
        "    - sigma: The volatility (standard deviation) of the asset/portfolio returns.\n",
        "    - time_horizon: The time horizon for the VaR calculation.\n",
        "    - n_simulations: The number of Monte Carlo simulations to run.\n",
        "    - confidence_level: The confidence level for VaR (default is 0.95).\n",
        "\n",
        "    Returns:\n",
        "    - var: The calculated VaR at the specified confidence level.\n",
        "    \"\"\"\n",
        "    dt = 1 / 252  # assume 252 trading days in a year\n",
        "    simulated_end_values = np.zeros(n_simulations)\n",
        "\n",
        "    for i in range(n_simulations):\n",
        "        random_shocks = np.random.normal(0, 1, time_horizon) * np.sqrt(dt)\n",
        "        price_path = initial_value * np.exp(np.cumsum((mu - 0.5 * sigma**2) * dt + sigma * random_shocks))\n",
        "        simulated_end_values[i] = price_path[-1]\n",
        "\n",
        "    # Calculate returns\n",
        "    simulated_returns = (simulated_end_values - initial_value) / initial_value\n",
        "\n",
        "    # Calculate VaR\n",
        "    var = historical_var(simulated_returns, confidence_level)\n",
        "    return var\n",
        "\n",
        "# Example\n",
        "initial_value = 1000000  # Initial portfolio value of $1,000,000\n",
        "mu = 0.08  # Expected annual return of 8%\n",
        "sigma = 0.2  # Annual volatility of 20%\n",
        "time_horizon = 1  # 1 day ahead VaR\n",
        "n_simulations = 10000  # Number of Monte Carlo simulations\n",
        "\n",
        "var_95_mc = monte_carlo_var(initial_value, mu, sigma, time_horizon, n_simulations, 0.95)\n",
        "print(f\"Monte Carlo VaR (95% confidence level): {var_95_mc:.4f}\")"
      ],
      "metadata": {
        "colab": {
          "base_uri": "https://localhost:8080/"
        },
        "id": "b3N9gVqfpEVU",
        "outputId": "f187933c-e303-4025-c4fc-291ecbd1cddb"
      },
      "execution_count": 2,
      "outputs": [
        {
          "output_type": "stream",
          "name": "stdout",
          "text": [
            "Monte Carlo VaR (95% confidence level): 0.0205\n"
          ]
        }
      ]
    }
  ]
}